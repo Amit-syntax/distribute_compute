{
 "cells": [
  {
   "cell_type": "code",
   "execution_count": 1,
   "id": "c6574e5d",
   "metadata": {},
   "outputs": [],
   "source": [
    "import dist_comp as dc"
   ]
  },
  {
   "cell_type": "code",
   "execution_count": 2,
   "id": "49f39c34",
   "metadata": {},
   "outputs": [
    {
     "name": "stdout",
     "output_type": "stream",
     "text": [
      "Response from server: {\"type\":\"session_ack\",\"description\":\"Session created\",\"body\":{\"session_id\":\"d289e556-953e-4480-99bd-31b57c0c0857\"}}\n",
      "\n",
      "Connected to server. Session ID: d289e556-953e-4480-99bd-31b57c0c0857\n",
      "Response from server: {'type': 'session_remote_exec_init', 'description': 'Remote execution request initialized', 'body': {'execution_id': '24f60c2c-b994-4a54-bc56-7a44b9ba1d4d'}}\n",
      "Result: RemExecObj(24f60c2c-b994-4a54-bc56-7a44b9ba1d4d)\n"
     ]
    }
   ],
   "source": [
    "\n",
    "dc.connect( \"localhost\",\"9090\", \"test\",[])\n",
    "\n",
    "@dc.RemoteExec(gpu_required=False)\n",
    "def add(a, b):\n",
    "    return a + b\n",
    "\n",
    "rem_exec_obj = add.remote(2, 3)\n",
    "\n",
    "print(\"Result:\", rem_exec_obj)\n",
    "\n",
    "# results = dc.get(rem_exec_obj)"
   ]
  },
  {
   "cell_type": "code",
   "execution_count": null,
   "id": "e14d1fef",
   "metadata": {},
   "outputs": [],
   "source": []
  }
 ],
 "metadata": {
  "kernelspec": {
   "display_name": "env",
   "language": "python",
   "name": "python3"
  },
  "language_info": {
   "codemirror_mode": {
    "name": "ipython",
    "version": 3
   },
   "file_extension": ".py",
   "mimetype": "text/x-python",
   "name": "python",
   "nbconvert_exporter": "python",
   "pygments_lexer": "ipython3",
   "version": "3.13.6"
  }
 },
 "nbformat": 4,
 "nbformat_minor": 5
}
